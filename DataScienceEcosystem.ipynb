{
 "cells": [
  {
   "cell_type": "markdown",
   "id": "48db8bcf-af30-4c2d-890b-479c775d18ab",
   "metadata": {},
   "source": [
    "<center>\n",
    "    <img src=\"https://cf-courses-data.s3.us.cloud-object-storage.appdomain.cloud/IBMDeveloperSkillsNetwork-DS0105EN-SkillsNetwork/labs/Module2/images/SN_web_lightmode.png\" width=\"300\" alt=\"cognitiveclass.ai logo\">\n",
    "</center>\n"
   ]
  },
  {
   "cell_type": "markdown",
   "id": "202bc240-d1c1-4863-8ba5-f14fe81ad0c9",
   "metadata": {
    "tags": []
   },
   "source": [
    " Exercise 1: Create a Jupyter Notebook \n",
    "Exercise 2: Create markdown cell with title of the notebook"
   ]
  },
  {
   "cell_type": "markdown",
   "id": "f5a6122d-4bea-431d-8c58-004b643b22d6",
   "metadata": {
    "tags": []
   },
   "source": [
    "# Data Science Tools and Ecosystem"
   ]
  },
  {
   "cell_type": "markdown",
   "id": "c20e6a43-2c3e-46a4-8f0e-84db4c405ed6",
   "metadata": {
    "tags": []
   },
   "source": [
    "Exercise 3 - Create a markdown cell for an introduction"
   ]
  },
  {
   "cell_type": "markdown",
   "id": "c31d16d5-82cf-4381-988f-5201df43ed48",
   "metadata": {
    "tags": []
   },
   "source": [
    "# In this notebook, Data Science Tools and Ecosystem are summarized."
   ]
  },
  {
   "cell_type": "markdown",
   "id": "2d36ff13-ef70-4bd9-8d67-5abeccba30a5",
   "metadata": {},
   "source": [
    "Exercise 4 - Create a markdown cell to list data science languages"
   ]
  },
  {
   "cell_type": "markdown",
   "id": "24b3ae51-bc26-4bae-8d43-53e86ee96548",
   "metadata": {
    "tags": []
   },
   "source": [
    "Some of the popular languages that Data Scientists use are:\n",
    "1. Java\n",
    "2. C++\n",
    "3. Python\n"
   ]
  },
  {
   "cell_type": "markdown",
   "id": "9665f399-6abd-4b72-98ba-e9ce2d7e2d9d",
   "metadata": {},
   "source": [
    "Exercise 5 - Create a markdown cell to list data science libraries"
   ]
  },
  {
   "cell_type": "markdown",
   "id": "29c509ec-cf7b-4748-86b9-ac089cef83fe",
   "metadata": {},
   "source": [
    "Some of the commonly used libraries used by Data Scientists include:\n",
    "1. NumPy\n",
    "2. Sciti-Learn\n",
    "3. Pandas\n",
    "4. Matplot    "
   ]
  },
  {
   "cell_type": "markdown",
   "id": "dabbdd23-bc02-42e3-92b5-f54e31c292d2",
   "metadata": {},
   "source": [
    "Exercise 6 - Create a markdown cell with a table of Data Science tools"
   ]
  },
  {
   "cell_type": "markdown",
   "id": "0d4602a3-4488-40ef-8166-f1d6758b1e14",
   "metadata": {},
   "source": [
    "| Data Science Tools|\n",
    "|--------------------|\n",
    "| Jupitar Notebook|\n",
    "| CodePen|\n",
    "| RStudio|\n"
   ]
  },
  {
   "cell_type": "markdown",
   "id": "1194dc44-98ec-4704-a652-0069ad6c37ee",
   "metadata": {},
   "source": [
    "Exercise 7 - Create a markdown cell introducing arithmetic expression examples"
   ]
  },
  {
   "cell_type": "markdown",
   "id": "18f5e210-d00b-4c7a-8307-9c7c9a99faf6",
   "metadata": {},
   "source": [
    "### Below are a few examples of evaluating arithmetic expressions in Python"
   ]
  },
  {
   "cell_type": "markdown",
   "id": "1df36e64-102c-41c0-8216-e9896836943a",
   "metadata": {},
   "source": [
    "Exercise 8 - Create a code cell to multiply and add numbers"
   ]
  },
  {
   "cell_type": "code",
   "execution_count": 9,
   "id": "dbda9350-04fe-477c-861c-9862550953ac",
   "metadata": {
    "tags": []
   },
   "outputs": [
    {
     "data": {
      "text/plain": [
       "17"
      ]
     },
     "execution_count": 9,
     "metadata": {},
     "output_type": "execute_result"
    }
   ],
   "source": [
    "#This a simple arithmetic expression to mutiply then add integers\n",
    "(3*4)+5"
   ]
  },
  {
   "cell_type": "markdown",
   "id": "beb8e026-a828-4ed3-9887-e08c8e3332aa",
   "metadata": {
    "tags": []
   },
   "source": [
    "Exercise 9 - Create a code cell to convert minutes to hours"
   ]
  },
  {
   "cell_type": "code",
   "execution_count": 16,
   "id": "97baf454-b78e-4552-a164-6d4da3d6d8ce",
   "metadata": {
    "tags": []
   },
   "outputs": [
    {
     "name": "stdout",
     "output_type": "stream",
     "text": [
      "3.3333333333333335\n"
     ]
    }
   ],
   "source": [
    "#This will convert 200 minutes to hours by diving by 60.\n",
    "hours = minutes/60\n",
    "print(hours)"
   ]
  },
  {
   "cell_type": "markdown",
   "id": "446a19d3-cc30-45ae-8dc1-426b1e2de4ec",
   "metadata": {},
   "source": [
    "Exercise 10 - Insert a markdown cell to list Objectives"
   ]
  },
  {
   "cell_type": "markdown",
   "id": "aff84763-ad57-4d14-85e6-d05c50b56dec",
   "metadata": {},
   "source": [
    "**Objectives:**\n",
    "\n",
    "- List popular languages for Data Science\n",
    "- List common libraries \n",
    "- List of the common tools"
   ]
  },
  {
   "cell_type": "markdown",
   "id": "25bed063-b50c-4827-a043-533751fc1908",
   "metadata": {},
   "source": [
    "Exercise 11 - Create a markdown cell to indicate the Author's name"
   ]
  },
  {
   "cell_type": "markdown",
   "id": "a4bbecbf-73e7-47c0-b9c6-a13a0229e7d9",
   "metadata": {
    "tags": []
   },
   "source": [
    "## Author\n",
    "K. N. Ara "
   ]
  },
  {
   "cell_type": "code",
   "execution_count": null,
   "id": "e5ee3bcd-b5eb-4526-85cf-1415572190c2",
   "metadata": {},
   "outputs": [],
   "source": []
  }
 ],
 "metadata": {
  "kernelspec": {
   "display_name": "Python",
   "language": "python",
   "name": "conda-env-python-py"
  },
  "language_info": {
   "codemirror_mode": {
    "name": "ipython",
    "version": 3
   },
   "file_extension": ".py",
   "mimetype": "text/x-python",
   "name": "python",
   "nbconvert_exporter": "python",
   "pygments_lexer": "ipython3",
   "version": "3.7.12"
  }
 },
 "nbformat": 4,
 "nbformat_minor": 5
}
